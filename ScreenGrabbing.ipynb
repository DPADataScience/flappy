{
 "cells": [
  {
   "cell_type": "code",
   "execution_count": 2,
   "metadata": {
    "collapsed": true
   },
   "outputs": [],
   "source": [
    "from PIL import ImageGrab\n",
    "import time"
   ]
  },
  {
   "cell_type": "markdown",
   "metadata": {},
   "source": [
    "Use bbox to only get a portion of the screen. It takes the following coordinates (x_start, y_start, x_end, y_end)"
   ]
  },
  {
   "cell_type": "code",
   "execution_count": 9,
   "metadata": {},
   "outputs": [
    {
     "name": "stdout",
     "output_type": "stream",
     "text": [
      "20\n"
     ]
    }
   ],
   "source": [
    "folder = 'screendumps/'\n",
    "time.sleep(5)\n",
    "images = []\n",
    "for i in range(20):\n",
    "    time.sleep(0.1)\n",
    "    images.append(ImageGrab.grab(bbox=(1230, 258, 1516, 676))) #.save(dumpto, \"JPEG\")\n",
    "\n",
    "print(len(images))\n",
    "i = 1\n",
    "for image in images:\n",
    "    dumpto = folder + 'screen_capture_' + str(i) +'.jpg'\n",
    "    image.save(dumpto, \"JPEG\")\n",
    "    i +=1"
   ]
  },
  {
   "cell_type": "code",
   "execution_count": null,
   "metadata": {
    "collapsed": true
   },
   "outputs": [],
   "source": []
  }
 ],
 "metadata": {
  "kernelspec": {
   "display_name": "Python [default]",
   "language": "python",
   "name": "python3"
  },
  "language_info": {
   "codemirror_mode": {
    "name": "ipython",
    "version": 3
   },
   "file_extension": ".py",
   "mimetype": "text/x-python",
   "name": "python",
   "nbconvert_exporter": "python",
   "pygments_lexer": "ipython3",
   "version": "3.6.1"
  }
 },
 "nbformat": 4,
 "nbformat_minor": 2
}
